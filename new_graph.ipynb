{
 "cells": [
  {
   "cell_type": "code",
   "execution_count": 1,
   "metadata": {},
   "outputs": [
    {
     "name": "stderr",
     "output_type": "stream",
     "text": [
      "/Users/tomasgutierrez/projects/flite/flite-ai/venv/lib/python3.13/site-packages/tqdm/auto.py:21: TqdmWarning: IProgress not found. Please update jupyter and ipywidgets. See https://ipywidgets.readthedocs.io/en/stable/user_install.html\n",
      "  from .autonotebook import tqdm as notebook_tqdm\n"
     ]
    }
   ],
   "source": [
    "from langchain_core.tools import tool\n",
    "import os\n",
    "from dotenv import load_dotenv\n",
    "from pydantic import BaseModel, Field\n",
    "from typing import List, Optional\n",
    "import os\n",
    "import argparse\n",
    "from pymongo import MongoClient\n",
    "from pymongo.mongo_client import MongoClient\n",
    "from pymongo.server_api import ServerApi\n",
    "from sentence_transformers import SentenceTransformer\n",
    "from transformers import AutoTokenizer, AutoModelForCausalLM\n",
    "import torch\n",
    "from typing import List, Optional\n",
    "from langchain_redis import RedisChatMessageHistory\n",
    "from langchain_core.messages import HumanMessage, AIMessage, BaseMessage\n",
    "from dotenv import load_dotenv\n",
    "from typing import TypedDict\n",
    "from langgraph.graph import StateGraph, START, END\n",
    "from typing import Dict, Any\n",
    "from langgraph.prebuilt import ToolNode, tools_condition\n",
    "from IPython.display import Image, display\n",
    "\n",
    "load_dotenv()\n",
    "\n",
    "class Message(BaseModel):\n",
    "    role: str\n",
    "    content: str\n",
    "\n",
    "class ChatRequest(BaseModel):\n",
    "    context: Optional[List[BaseMessage]] = Field(default_factory=list)\n",
    "    text: str\n",
    "    max_new_tokens: Optional[int] = 1024\n",
    "    session_id: Optional[str] = None"
   ]
  },
  {
   "cell_type": "code",
   "execution_count": 2,
   "metadata": {},
   "outputs": [
    {
     "name": "stdout",
     "output_type": "stream",
     "text": [
      "Error connecting to MongoDB: stagingdb-shard-00-00.qkslh.mongodb.net:27017: [SSL: CERTIFICATE_VERIFY_FAILED] certificate verify failed: unable to get local issuer certificate (_ssl.c:1020) (configured timeouts: socketTimeoutMS: 20000.0ms, connectTimeoutMS: 20000.0ms),stagingdb-shard-00-01.qkslh.mongodb.net:27017: [SSL: CERTIFICATE_VERIFY_FAILED] certificate verify failed: unable to get local issuer certificate (_ssl.c:1020) (configured timeouts: socketTimeoutMS: 20000.0ms, connectTimeoutMS: 20000.0ms),stagingdb-shard-00-02.qkslh.mongodb.net:27017: [SSL: CERTIFICATE_VERIFY_FAILED] certificate verify failed: unable to get local issuer certificate (_ssl.c:1020) (configured timeouts: socketTimeoutMS: 20000.0ms, connectTimeoutMS: 20000.0ms), Timeout: 30s, Topology Description: <TopologyDescription id: 686419719a49822ca6dfe6f6, topology_type: ReplicaSetNoPrimary, servers: [<ServerDescription ('stagingdb-shard-00-00.qkslh.mongodb.net', 27017) server_type: Unknown, rtt: None, error=AutoReconnect('stagingdb-shard-00-00.qkslh.mongodb.net:27017: [SSL: CERTIFICATE_VERIFY_FAILED] certificate verify failed: unable to get local issuer certificate (_ssl.c:1020) (configured timeouts: socketTimeoutMS: 20000.0ms, connectTimeoutMS: 20000.0ms)')>, <ServerDescription ('stagingdb-shard-00-01.qkslh.mongodb.net', 27017) server_type: Unknown, rtt: None, error=AutoReconnect('stagingdb-shard-00-01.qkslh.mongodb.net:27017: [SSL: CERTIFICATE_VERIFY_FAILED] certificate verify failed: unable to get local issuer certificate (_ssl.c:1020) (configured timeouts: socketTimeoutMS: 20000.0ms, connectTimeoutMS: 20000.0ms)')>, <ServerDescription ('stagingdb-shard-00-02.qkslh.mongodb.net', 27017) server_type: Unknown, rtt: None, error=AutoReconnect('stagingdb-shard-00-02.qkslh.mongodb.net:27017: [SSL: CERTIFICATE_VERIFY_FAILED] certificate verify failed: unable to get local issuer certificate (_ssl.c:1020) (configured timeouts: socketTimeoutMS: 20000.0ms, connectTimeoutMS: 20000.0ms)')>]>\n",
      "13:23:28 sentence_transformers.SentenceTransformer INFO   Use pytorch device_name: mps\n",
      "13:23:28 sentence_transformers.SentenceTransformer INFO   Load pretrained SentenceTransformer: BAAI/bge-m3\n"
     ]
    }
   ],
   "source": [
    "uri = os.getenv(\"MONGODB_URI\")\n",
    "mongo_client = MongoClient(uri, server_api=ServerApi(\"1\"))\n",
    "\n",
    "# Test the connection\n",
    "try:\n",
    "    mongo_client.admin.command('ping')\n",
    "    print(\"Successfully connected to MongoDB!\")\n",
    "except Exception as e:\n",
    "    print(f\"Error connecting to MongoDB: {e}\")\n",
    "    exit(1)\n",
    "\n",
    "db = mongo_client[\"RagAI\"]\n",
    "collection = db[\"embeddings\"]\n",
    "embedding_model = SentenceTransformer(\"BAAI/bge-m3\", token=os.getenv('HUGGINGFACE_HUB_TOKEN'))"
   ]
  },
  {
   "cell_type": "code",
   "execution_count": 4,
   "metadata": {},
   "outputs": [],
   "source": [
    "# Vector Search Function\n",
    "def vector_search(user_query):\n",
    "    # Get embedding for user query\n",
    "    embedding = embedding_model.encode(user_query, normalize_embeddings=True)\n",
    "    query_vector = embedding.tolist()\n",
    "\n",
    "    # Build aggregation pipeline with $vectorSearch\n",
    "    pipeline = [\n",
    "        {\n",
    "            \"$vectorSearch\": {\n",
    "                \"index\": \"test1\",\n",
    "                \"path\": \"embedding\",\n",
    "                \"queryVector\": query_vector,\n",
    "                \"numCandidates\": 100,\n",
    "                \"limit\": 5,\n",
    "                \"similarity\": \"cosine\"\n",
    "            }\n",
    "        },\n",
    "        {\n",
    "            \"$project\": {\n",
    "                \"_id\": 0,\n",
    "                \"text\": 1,\n",
    "                \"score\": {\"$meta\": \"vectorSearchScore\"}\n",
    "            }\n",
    "        }\n",
    "    ]\n",
    "\n",
    "    results = list(collection.aggregate(pipeline))\n",
    "    return results"
   ]
  },
  {
   "cell_type": "code",
   "execution_count": null,
   "metadata": {},
   "outputs": [
    {
     "data": {
      "image/png": "[encoded data removed]",
      "text/plain": [
       "<IPython.core.display.Image object>"
      ]
     },
     "metadata": {},
     "output_type": "display_data"
    }
   ],
   "source": [
    "# Create Promo Code Tool\n",
    "\n",
    "@tool\n",
    "def createPromoCode(event: str, name: str, type: str, value: float, limit: int) -> dict:\n",
    "    \"\"\"Creates a promo code for a Flite event.\"\"\"\n",
    "    return {\n",
    "        \"event\": event,\n",
    "        \"name\": name,\n",
    "        \"type\": type,\n",
    "        \"value\": value,\n",
    "        \"limit\": limit\n",
    "    }\n",
    "\n",
    "# Send SMS Blast Tools\n",
    "\n",
    "@tool\n",
    "def sendEventMessage(event: str, message: str, insertFirstName: bool, audienceType: str, includeLink: bool, ticketType: str) -> dict:\n",
    "    \"\"\"\n",
    "    Send a Flite SMS blast to attendees of a specific event.\n",
    "\n",
    "    Only submit the tool call when all required and any desired optional fields are provided.\n",
    "\n",
    "    - insertFirstName: 'yes' or 'no' — whether to personalize each message with the attendee's first name.\n",
    "    - audienceType: One of 'Event Attendees', 'Abandoned Carts', or 'Update List'.\n",
    "    - includeLink: 'yes' or 'no' — whether to include a link in the SMS.\n",
    "    - ticketType: One of 'General Admission (GA)', 'Golden Pass', or 'Secret'.\n",
    "    \"\"\"\n",
    "    return {\n",
    "        \"event\": event,\n",
    "        \"message\": message,\n",
    "        \"insertFirstName\": insertFirstName,\n",
    "        \"audienceType\": audienceType,\n",
    "        \"includeLink\": includeLink,\n",
    "        \"ticketType\": ticketType,\n",
    "    }\n",
    "\n",
    "@tool\n",
    "def sendAudienceMessage(message: str, insertFirstName: bool, link: Optional[str] = None) -> dict:\n",
    "    \"\"\"Send a Flite SMS blast to a hosts entire fanbase/audience. Only submit the tool call when all required and user-desired optional fields are collected.\n",
    "    \n",
    "    - insertFirstName: 'yes' or 'no' — whether to personalize each message with the attendee's first name.\n",
    "    - link: A link to include in the SMS.\"\"\"\n",
    "    return {\n",
    "        \"message\": message,\n",
    "        \"insertFirstName\": insertFirstName,\n",
    "        \"link\": link,\n",
    "    }\n",
    "\n",
    "@tool\n",
    "def sendCityMessage(city: str, message: str, insertFirstName: bool, link: Optional[str] = None) -> dict:\n",
    "    \"\"\"Send a Flite SMS blast to users that have attended any of the host's events in a specific city. Only submit the tool call when all required and user-desired optional fields are collected.\n",
    "    \n",
    "    - insertFirstName: 'yes' or 'no' — whether to personalize each message with the attendee's first name.\n",
    "    - link: A link to include in the SMS.\"\"\"\n",
    "    return {\n",
    "        \"city\": city,\n",
    "        \"message\": message,\n",
    "        \"insertFirstName\": insertFirstName,\n",
    "        \"link\": link,\n",
    "    }\n",
    "\n",
    "# Send Email Blast Tools\n",
    "\n",
    "@tool\n",
    "def sendEventEmail(event: str, subject: str, email: str, audienceType: str, ticketType: str) -> dict:\n",
    "    \"\"\"\n",
    "    Send a Flite Email blast to attendees of a specific event.\n",
    "\n",
    "    Only submit the tool call when all required and any desired optional fields are provided.\n",
    "\n",
    "    - subject: The subject of the email to send.\n",
    "    - email: The content of the email to send.\n",
    "    - audienceType: One of 'Event Attendees', 'Abandoned Carts', or 'Update List'.\n",
    "    - ticketType: One of 'General Admission (GA)', 'Golden Pass', or 'Secret'.\n",
    "    \"\"\"\n",
    "    return {\n",
    "        \"event\": event,\n",
    "        \"subject\": subject,\n",
    "        \"email\": email,\n",
    "        \"audienceType\": audienceType,\n",
    "        \"ticketType\": ticketType,\n",
    "    }\n",
    "\n",
    "@tool\n",
    "def sendAudienceEmail(subject: str, email: str, link: Optional[str] = None) -> dict:\n",
    "    \"\"\"Send a Flite Email blast to a hosts entire fanbase/audience. Only submit the tool call when all required and user-desired optional fields are collected.\n",
    "    \n",
    "    - subject: The subject of the email to send.\n",
    "    - email: The content of the email to send.\n",
    "    - link: A link to include in the email.\"\"\"\n",
    "    return {\n",
    "        \"subject\": subject,\n",
    "        \"email\": email,\n",
    "        \"link\": link,\n",
    "    }\n",
    "\n",
    "@tool\n",
    "def sendCityEmail(city: str, subject: str, email: str, link: Optional[str] = None) -> dict:\n",
    "    \"\"\"Send a Flite Email blast to users that have attended any of the host's events in a specific city. Only submit the tool call when all required and user-desired optional fields are collected.\n",
    "    \n",
    "    - city: The specified city.\n",
    "    - subject: The subject of the email to send.\n",
    "    - email: The content of the email to send.\n",
    "    - link: A link to include in the email.\"\"\"\n",
    "    return {\n",
    "        \"city\": city,\n",
    "        \"subject\": subject,\n",
    "        \"email\": email,\n",
    "        \"link\": link,\n",
    "    }\n",
    "\n",
    "# Send Notification Blast Tools\n",
    "\n",
    "@tool\n",
    "def sendNotifications(title: str, message: str) -> dict:\n",
    "    \"\"\"\n",
    "    Send a Flite Notification blast to all of a host's fans who have the mobile app.\n",
    "\n",
    "    Only submit the tool call when all required and any desired optional fields are provided.\n",
    "\n",
    "    - title: The title of the notification to send.\n",
    "    - message: The content of the notification to send.\n",
    "    \"\"\"\n",
    "    return {\n",
    "        \"title\": title,\n",
    "        \"message\": message,\n",
    "    }\n",
    "\n",
    "tools = [createPromoCode, sendEventMessage, sendAudienceMessage, sendCityMessage, sendEventEmail, sendAudienceEmail, sendCityEmail, sendNotifications]\n",
    "\n",
    "from langchain_openai import ChatOpenAI\n",
    "\n",
    "llm = ChatOpenAI(\n",
    "    model=\"gpt-4.1-2025-04-14\",\n",
    "    openai_api_key=os.getenv(\"OPENAI_API_KEY\")\n",
    ")\n",
    "\n",
    "llm_with_tools = llm.bind_tools(tools)\n",
    "\n",
    "class State(TypedDict):\n",
    "    messages: List[BaseMessage]\n",
    "\n",
    "def agent_node(state: State) -> State:\n",
    "    messages = state[\"messages\"]\n",
    "    query = messages[-1].content\n",
    "    \n",
    "    # Check if last message is a tool result\n",
    "    if hasattr(messages[-1], 'type') and messages[-1].type == \"tool\":\n",
    "        # Tool was just executed, provide final response\n",
    "        tool_result = messages[-1]\n",
    "        prompt = (\n",
    "            f\"A tool was just executed successfully. \"\n",
    "            f\"Tool result: {tool_result.content}\\n\\n\"\n",
    "            f\"Provide a brief confirmation to the user that the action was completed.\"\n",
    "        )\n",
    "    else:\n",
    "        # Normal query processing\n",
    "        search_results = vector_search(query)\n",
    "        context_block = \"\\n\".join(\n",
    "            f\"{'User' if msg.type == 'human' else 'Assistant'}: {msg.content}\"\n",
    "            for msg in messages\n",
    "        )\n",
    "        \n",
    "        snippets = \"\\n\\n\".join(\n",
    "            \"- \" + search_result[\"text\"][:200].replace(\"\\n\", \" \") for search_result in search_results\n",
    "        )\n",
    "\n",
    "        prompt = (\n",
    "            f\"You are a helpful assistant. Use the previous conversation and the retrieved document snippets to answer the query.\\n\\n\"\n",
    "            f\"When the user needs to provide information for a tool call, \"\n",
    "            f\"ask for the missing required and optional fields using the following strict format:\\n\\n\"\n",
    "            f\"- [Short description or question about field]\\n\\n\"\n",
    "            f\"Leave exactly one blank line between each bullet.\\n\\n\"\n",
    "            f\"Example:\\n\"\n",
    "            f\"- What is the event?\\n\\n\"\n",
    "            f\"- Would you like to include a link in your message?\\n\\n\"\n",
    "            f\"- Who is the audience for this message?\\n\\n\"\n",
    "            f\"- What ticket type are you interested in?\\n\\n\"\n",
    "            f\"Do NOT mention tools, internal functions, or system information.\\n\\n\"\n",
    "            f\"Previous Messages:\\n{context_block}\\n\\n\"\n",
    "            f\"Query: {query}\\n\\n\"\n",
    "            f\"Snippets:\\n{snippets}\\n\\n\"\n",
    "            \"Answer:\"\n",
    "        )\n",
    "\n",
    "    ai_msg = llm_with_tools.invoke(prompt)\n",
    "    return {\"messages\": messages + [ai_msg]}\n",
    "\n",
    "def my_tools_condition(state: State):\n",
    "    messages = state[\"messages\"]\n",
    "    last_message = messages[-1]\n",
    "    \n",
    "    # If last message is a tool result, go to agent to respond\n",
    "    if hasattr(last_message, 'type') and last_message.type == \"tool\":\n",
    "        return \"agent\"\n",
    "    \n",
    "    # If last message is AI and has tool calls, go to tools\n",
    "    if last_message.type == \"ai\" and getattr(last_message, \"tool_calls\", None):\n",
    "        return \"tools\"\n",
    "    \n",
    "    # Otherwise end\n",
    "    return \"end\"\n",
    "\n",
    "builder = StateGraph(State)\n",
    "builder.add_node(\"agent\", agent_node)\n",
    "builder.add_node(\"tools\", ToolNode(tools))\n",
    "\n",
    "builder.add_edge(START, \"agent\")\n",
    "builder.add_conditional_edges(\n",
    "    \"agent\",\n",
    "    my_tools_condition,\n",
    "    {\n",
    "        \"tools\": \"tools\",\n",
    "        \"end\": END\n",
    "    }\n",
    ")\n",
    "\n",
    "builder.add_edge(\"tools\", \"agent\")\n",
    "graph = builder.compile()\n",
    "\n",
    "display(Image(graph.get_graph(xray=True).draw_mermaid_png()))"
   ]
  },
  {
   "cell_type": "code",
   "execution_count": 45,
   "metadata": {},
   "outputs": [
    {
     "name": "stdout",
     "output_type": "stream",
     "text": [
      "20:45:56 redisvl.index.index INFO   Index already exists, not overwriting.\n"
     ]
    }
   ],
   "source": [
    "history = RedisChatMessageHistory(\n",
    "    session_id=\"anonymous\",\n",
    "    redis_url=os.getenv(\"REDIS_URL\"),\n",
    "    ttl=3600\n",
    ")"
   ]
  },
  {
   "cell_type": "code",
   "execution_count": 44,
   "metadata": {},
   "outputs": [],
   "source": [
    "history.clear()"
   ]
  },
  {
   "cell_type": "code",
   "execution_count": 52,
   "metadata": {},
   "outputs": [
    {
     "name": "stderr",
     "output_type": "stream",
     "text": [
      "Batches:   0%|          | 0/1 [00:00<?, ?it/s]"
     ]
    },
    {
     "name": "stderr",
     "output_type": "stream",
     "text": [
      "Batches: 100%|██████████| 1/1 [00:00<00:00,  3.30it/s]\n"
     ]
    },
    {
     "name": "stdout",
     "output_type": "stream",
     "text": [
      "20:47:57 httpx INFO   HTTP Request: POST https://api.openai.com/v1/chat/completions \"HTTP/1.1 200 OK\"\n",
      "20:47:57 httpx INFO   HTTP Request: POST https://api.openai.com/v1/chat/completions \"HTTP/1.1 200 OK\"\n",
      "Your email about the New Year's Eve Party has been sent successfully.\n"
     ]
    }
   ],
   "source": [
    "user_msg = HumanMessage(content=\"\"\"content is this\n",
    "hi guys, \n",
    "                        \n",
    "hope to see you all soon at the NYE party!!\n",
    "\n",
    "best, Tomas\n",
    "\n",
    "no link\"\"\")\n",
    "history.add_message(user_msg)\n",
    "\n",
    "state = {\n",
    "    \"messages\": history.messages\n",
    "}\n",
    "\n",
    "result = graph.invoke(state)\n",
    "\n",
    "final_ai = next(m for m in reversed(result[\"messages\"]) if m.type == \"ai\")\n",
    "tool_results = [m for m in reversed(result[\"messages\"]) if m.type == \"tool\"]\n",
    "\n",
    "history.add_message(final_ai)\n",
    "print(final_ai.content)"
   ]
  },
  {
   "cell_type": "code",
   "execution_count": 58,
   "metadata": {},
   "outputs": [
    {
     "name": "stdout",
     "output_type": "stream",
     "text": [
      "<class 'list'>\n"
     ]
    }
   ],
   "source": [
    "print(type(tool_results))"
   ]
  },
  {
   "cell_type": "code",
   "execution_count": 54,
   "metadata": {},
   "outputs": [
    {
     "name": "stdout",
     "output_type": "stream",
     "text": [
      "[HumanMessage(content='hi there!', additional_kwargs={}, response_metadata={}), AIMessage(content='Hey! 😎 I’m your Flite Assistant, ready to help you make your next event a smash hit! Need help with tickets, promoting, or hyping things up? Just let me know what you want to do!', additional_kwargs={'refusal': None}, response_metadata={}), HumanMessage(content='can you help me send an email blast?', additional_kwargs={}, response_metadata={}), AIMessage(content='- What is the subject of your email?\\n\\n- What is the content of your email?\\n\\n- Who is the audience for this email blast? (For example: your entire fanbase, event attendees, a test segment, or users in a specific city)\\n\\n- Would you like to include a link in your email? If yes, please provide the link.\\n\\n- If sending to event attendees, what ticket type should receive the email? (General Admission, Golden Pass, Secret)', additional_kwargs={'refusal': None}, response_metadata={}), HumanMessage(content='email blast is for my whole fanbase', additional_kwargs={}, response_metadata={}), AIMessage(content='- What is the subject of your email?\\n\\n- What is the content of your email?\\n\\n- Would you like to include a link in your email? If yes, please provide the link.', additional_kwargs={'refusal': None}, response_metadata={}), HumanMessage(content='subject: New Years Eve Party', additional_kwargs={}, response_metadata={}), AIMessage(content='- What is the content of your email?\\n\\n- Would you like to include a link in your email? If yes, please provide the link.', additional_kwargs={'refusal': None}, response_metadata={}), HumanMessage(content='content is this\\nhi guys, \\n                        \\nhope to see you all soon at the NYE party!!\\n\\nbest, Tomas\\n\\nno link', additional_kwargs={}, response_metadata={}), AIMessage(content=\"Your email about the New Year's Eve Party has been sent successfully.\", additional_kwargs={'refusal': None}, response_metadata={})]\n"
     ]
    }
   ],
   "source": [
    "print(history.messages)"
   ]
  },
  {
   "cell_type": "code",
   "execution_count": 42,
   "metadata": {},
   "outputs": [
    {
     "name": "stdout",
     "output_type": "stream",
     "text": [
      "{\"city\": \"NYC\", \"subject\": \"TESTING\", \"email\": \"hi there,\\n\\nhope to see you soon at NYE party!!\\n\\nfrom, tomas\", \"link\": null}\n"
     ]
    }
   ],
   "source": [
    "i = len(result[\"messages\"]) - 1\n",
    "tool_msg = None\n",
    "while i >= 0 and result[\"messages\"][i].type != \"human\":\n",
    "    if result[\"messages\"][i].type == \"tool\":\n",
    "        tool_msg = result[\"messages\"][i]\n",
    "        break\n",
    "    i -= 1\n",
    "\n",
    "print(tool_msg.content)"
   ]
  }
 ],
 "metadata": {
  "kernelspec": {
   "display_name": "venv",
   "language": "python",
   "name": "python3"
  },
  "language_info": {
   "codemirror_mode": {
    "name": "ipython",
    "version": 3
   },
   "file_extension": ".py",
   "mimetype": "text/x-python",
   "name": "python",
   "nbconvert_exporter": "python",
   "pygments_lexer": "ipython3",
   "version": "3.13.0"
  }
 },
 "nbformat": 4,
 "nbformat_minor": 2
}
